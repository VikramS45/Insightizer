{
 "cells": [
  {
   "cell_type": "code",
   "execution_count": null,
   "id": "85302143",
   "metadata": {},
   "outputs": [],
   "source": [
    "# Prompt 1: Calculate the average age of passengers.\n",
    "\n",
    "ages = [30, 32, 33, 34, 35]\n",
    "\n",
    "total_ages = 0\n",
    "\n",
    "for age in ages:\n",
    "  total_ages += age\n",
    "\n",
    "average_age = total_ages / len(ages)\n",
    "\n",
    "print(average_age)\n",
    "\n",
    "Output: 32.4"
   ]
  },
  {
   "cell_type": "code",
   "execution_count": null,
   "id": "1b9f7ce3",
   "metadata": {},
   "outputs": [],
   "source": [
    "# Prompt 2: Find the total number of passengers.\n",
    "\n",
    "# Passenger data is stored in the \"passengers\" variable\n",
    "total_passengers = sum(passengers)"
   ]
  },
  {
   "cell_type": "code",
   "execution_count": null,
   "id": "d8ae0db7",
   "metadata": {},
   "outputs": [],
   "source": [
    "# Prompt 3: Calculate the percentage of passengers who survived.\n",
    "\n",
    "n_survived = data[data['Survived'] == 1].shape[0]\n",
    "n_total = data.shape[0]\n",
    "\n",
    "survival_percentage = n_survived/n_total*100\n",
    "print('Percentage of passengers who survived:', survival_percentage)"
   ]
  }
 ],
 "metadata": {
  "language_info": {
   "name": "python"
  }
 },
 "nbformat": 4,
 "nbformat_minor": 5
}
