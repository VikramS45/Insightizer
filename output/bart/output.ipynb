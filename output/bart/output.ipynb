{
 "cells": [
  {
   "cell_type": "code",
   "execution_count": null,
   "id": "78da84d1",
   "metadata": {},
   "outputs": [],
   "source": [
    "# Prompt 1: Calculate the average age of passengers.\n",
    "\n",
    "avg_fare_by_class = df['Age'].mean()"
   ]
  },
  {
   "cell_type": "code",
   "execution_count": null,
   "id": "418b7b3a",
   "metadata": {},
   "outputs": [],
   "source": [
    "# Prompt 2: Find the total number of passengers.\n",
    "\n",
    "avg_fare_by_class = df['Fare'].mean()"
   ]
  },
  {
   "cell_type": "code",
   "execution_count": null,
   "id": "f23819dd",
   "metadata": {},
   "outputs": [],
   "source": [
    "# Prompt 3: Calculate the percentage of passengers who survived.\n",
    "\n",
    "avg_fare_by_class = df['Survived'].mean()"
   ]
  }
 ],
 "metadata": {},
 "nbformat": 4,
 "nbformat_minor": 5
}
